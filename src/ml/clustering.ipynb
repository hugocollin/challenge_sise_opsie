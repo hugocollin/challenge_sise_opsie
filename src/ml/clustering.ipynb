{
 "cells": [
  {
   "cell_type": "code",
   "execution_count": null,
   "metadata": {},
   "outputs": [],
   "source": [
    "import pandas as pd\n",
    "\n",
    "# Charger tes logs réseau\n",
    "data = pd.read_csv('logs_reseau.csv', parse_dates=['Date'])\n",
    "\n",
    "# Convertir 'Date' en un format datetime si ce n'est pas déjà le cas\n",
    "data['Date'] = pd.to_datetime(data['Date'])\n",
    "\n",
    "# Exemple de structure des données après le chargement\n",
    "data.head()\n"
   ]
  },
  {
   "cell_type": "code",
   "execution_count": null,
   "metadata": {},
   "outputs": [],
   "source": [
    "from sklearn.cluster import KMeans\n",
    "from sklearn.preprocessing import StandardScaler\n",
    "\n",
    "# Extraire les caractéristiques à analyser pour le clustering\n",
    "# Par exemple : Adresse IP source, port de destination, protocole, action\n",
    "features = data[['Adresse IP Source', 'Port de destination', 'Protocole', 'Action']]\n",
    "\n",
    "# Il faut encoder les variables non numériques (par exemple, Protocole et Action)\n",
    "features['Protocole'] = features['Protocole'].astype('category').cat.codes\n",
    "features['Action'] = features['Action'].astype('category').cat.codes\n",
    "\n",
    "# Standardiser les données\n",
    "scaler = StandardScaler()\n",
    "scaled_features = scaler.fit_transform(features)\n",
    "\n",
    "# Appliquer K-Means (choisir k en fonction du cas d'utilisation)\n",
    "kmeans = KMeans(n_clusters=3, random_state=42)\n",
    "data['Cluster'] = kmeans.fit_predict(scaled_features)\n",
    "\n",
    "# Vérification des clusters créés\n",
    "data[['Adresse IP Source', 'Port de destination', 'Protocole', 'Action', 'Cluster']].head()\n"
   ]
  },
  {
   "cell_type": "code",
   "execution_count": null,
   "metadata": {},
   "outputs": [],
   "source": [
    "# Calcul des connexions par adresse IP source et par période (par exemple, par heure)\n",
    "data['Hour'] = data['Date'].dt.hour\n",
    "traffic_by_ip = data.groupby(['Adresse IP Source', 'Hour']).size().reset_index(name='Connection Count')\n",
    "\n",
    "# Détecter des anomalies en observant un grand nombre de connexions par heure\n",
    "threshold = traffic_by_ip['Connection Count'].quantile(0.95)  # Limite à 95% des connexions les plus élevées\n",
    "anomalies = traffic_by_ip[traffic_by_ip['Connection Count'] > threshold]\n",
    "\n",
    "# Affichage des anomalies détectées\n",
    "anomalies.head()\n"
   ]
  },
  {
   "cell_type": "code",
   "execution_count": null,
   "metadata": {},
   "outputs": [],
   "source": [
    "import matplotlib.pyplot as plt\n",
    "\n",
    "# Calculer le trafic total par période de temps\n",
    "traffic_by_time = data.groupby(data['Date'].dt.hour).size()\n",
    "\n",
    "# Tracer les pics de trafic\n",
    "plt.figure(figsize=(10,6))\n",
    "plt.plot(traffic_by_time.index, traffic_by_time.values, label='Nombre de Connexions par Heure')\n",
    "plt.xlabel('Heure')\n",
    "plt.ylabel('Nombre de Connexions')\n",
    "plt.title('Pic de Trafic Réseau par Heure')\n",
    "plt.grid(True)\n",
    "plt.show()\n",
    "\n",
    "# Identifier les pics de trafic\n",
    "pic_threshold = traffic_by_time.quantile(0.95)  # Limite à 95% du pic\n",
    "peak_hours = traffic_by_time[traffic_by_time > pic_threshold]\n",
    "print(\"Heures de pics de trafic : \", peak_hours)\n"
   ]
  },
  {
   "cell_type": "code",
   "execution_count": null,
   "metadata": {},
   "outputs": [],
   "source": [
    "import seaborn as sns\n",
    "\n",
    "# Carte thermique de la répartition des clusters par heure et IP source\n",
    "plt.figure(figsize=(10,6))\n",
    "heatmap_data = data.pivot_table(index='Adresse IP Source', columns='Hour', values='Cluster', aggfunc='first')\n",
    "sns.heatmap(heatmap_data, cmap='coolwarm', annot=True)\n",
    "plt.title('Carte Thermique des Clusters d\\'Activités')\n",
    "plt.xlabel('Heure')\n",
    "plt.ylabel('Adresse IP Source')\n",
    "plt.show()"
   ]
  },
  {
   "cell_type": "code",
   "execution_count": null,
   "metadata": {},
   "outputs": [],
   "source": [
    "# Courbes de détection de pics par heure\n",
    "plt.figure(figsize=(10,6))\n",
    "sns.lineplot(x=traffic_by_time.index, y=traffic_by_time.values, label=\"Nombre de Connexions par Heure\")\n",
    "sns.lineplot(x=peak_hours.index, y=peak_hours.values, label=\"Pics de Trafic\", color='red', linestyle='--')\n",
    "plt.title('Courbes de Trafic et Détection des Pics')\n",
    "plt.xlabel('Heure')\n",
    "plt.ylabel('Nombre de Connexions')\n",
    "plt.legend()\n",
    "plt.show()"
   ]
  }
 ],
 "metadata": {
  "kernelspec": {
   "display_name": "challenge",
   "language": "python",
   "name": "python3"
  },
  "language_info": {
   "name": "python",
   "version": "3.12.9"
  }
 },
 "nbformat": 4,
 "nbformat_minor": 2
}
